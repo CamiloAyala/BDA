{
 "cells": [
  {
   "cell_type": "code",
   "execution_count": 34,
   "metadata": {},
   "outputs": [],
   "source": [
    "from bson.objectid import ObjectId\n",
    "from pymongo import MongoClient\n",
    "import random\n",
    "import pandas as pd\n",
    "from faker import Faker\n",
    "import datetime"
   ]
  },
  {
   "cell_type": "code",
   "execution_count": 60,
   "metadata": {},
   "outputs": [],
   "source": [
    "NUM_CLASSROOMS = 100\n",
    "NUM_BUILDING_FLOORS = 4\n",
    "NUM_CLASSROOMS_PER_FLOOR = 15\n",
    "NUM_STUDENTS = 10\n",
    "NUM_TEACHERS = 10"
   ]
  },
  {
   "cell_type": "code",
   "execution_count": 36,
   "metadata": {},
   "outputs": [],
   "source": [
    "client = MongoClient()\n",
    "client = MongoClient('mongodb://localhost:27017/')\n",
    "db = client['bda-project-oltp']"
   ]
  },
  {
   "cell_type": "code",
   "execution_count": 37,
   "metadata": {},
   "outputs": [],
   "source": [
    "def insertData(collection_name, data):\n",
    "    db = client['bda-project-oltp']\n",
    "    collection = db[collection_name]\n",
    "    collection.insert_many(data)"
   ]
  },
  {
   "cell_type": "code",
   "execution_count": 38,
   "metadata": {},
   "outputs": [
    {
     "name": "stdout",
     "output_type": "stream",
     "text": [
      "[101, 102, 103, 104, 105, 106, 107, 108, 109, 110, 111, 112, 113, 114, 115, 201, 202, 203, 204, 205, 206, 207, 208, 209, 210, 211, 212, 213, 214, 215, 301, 302, 303, 304, 305, 306, 307, 308, 309, 310, 311, 312, 313, 314, 315, 401, 402, 403, 404, 405, 406, 407, 408, 409, 410, 411, 412, 413, 414, 415]\n"
     ]
    }
   ],
   "source": [
    "building_names = {\n",
    "    'Ingeniería': [\n",
    "        {'name': 'Aulas de ingeniería', '_id': ObjectId},\n",
    "        {'name': 'CyT', '_id': ObjectId},\n",
    "        {'name': 'Insignia', '_id': ObjectId},\n",
    "    ],\n",
    "    'Ciencias': [\n",
    "        {'name': 'Aulas de ciencias', '_id': ObjectId},\n",
    "        {'name': 'Posgrados de matemáticas y física', '_id': ObjectId},\n",
    "        {'name': 'Yu Takeuchi', '_id': ObjectId}\n",
    "    ],\n",
    "    'Artes': [\n",
    "        {'name': 'Aulas de artes', '_id': ObjectId},\n",
    "        {'name': 'Conservatorio de música', '_id': ObjectId},\n",
    "        {'name': 'Aulas de arquitectura', '_id': ObjectId}\n",
    "    ]\n",
    "}\n",
    "\n",
    "classrooms_capacity = [20, 30, 40, 60, 80, 120, 200]\n",
    "classroom_number = [floor * 100 + num for floor in range(1, NUM_BUILDING_FLOORS + 1) for num in range(1, NUM_CLASSROOMS_PER_FLOOR + 1)]\n",
    "classroom_types = ['Salón', 'Laboratorio', 'Sala de computación', 'Auditorio']\n",
    "\n",
    "auditory_number = ['AUD A', 'AUD B', 'AUD C', 'AUD D']\n",
    "\n",
    "print(classroom_number)"
   ]
  },
  {
   "cell_type": "code",
   "execution_count": 69,
   "metadata": {},
   "outputs": [],
   "source": [
    "classrooms = []\n",
    "for i in range(NUM_CLASSROOMS):\n",
    "    capacity = random.choice(classrooms_capacity)\n",
    "    name = random.choice(classroom_number)\n",
    "    type = classroom_types[random.randint(0, 2)]\n",
    "    has_pc = 1 if random.random() > 0.8 or type == \"Sala de computación\" else 0\n",
    "\n",
    "    if(capacity > 80): \n",
    "        name = random.choice(auditory_number)\n",
    "        type = classroom_types[3]\n",
    "        has_pc = 0\n",
    "\n",
    "    building_faculty = random.choice(list(building_names.keys()))\n",
    "    aux_index = random.randint(0, 2)\n",
    "    building_name = building_names[building_faculty][aux_index]['name']\n",
    "\n",
    "    classrooms.append({\n",
    "        'name': name,\n",
    "        'capacity': capacity,\n",
    "        'type': type,\n",
    "        'has_pc': has_pc,\n",
    "        'building': {\n",
    "            'name': building_name,\n",
    "            'latitude': 4.598990,\n",
    "            'longitude': -74.072774\n",
    "        }\n",
    "    })\n",
    "\n",
    "insertData('classrooms', classrooms)"
   ]
  },
  {
   "cell_type": "code",
   "execution_count": 53,
   "metadata": {},
   "outputs": [
    {
     "name": "stdout",
     "output_type": "stream",
     "text": [
      "<class 'pandas.core.frame.DataFrame'>\n",
      "RangeIndex: 2010 entries, 0 to 2009\n",
      "Data columns (total 9 columns):\n",
      " #   Column           Non-Null Count  Dtype \n",
      "---  ------           --------------  ----- \n",
      " 0   sb_code          2010 non-null   object\n",
      " 1   sb_name          2010 non-null   object\n",
      " 2   sb_credits       2010 non-null   int64 \n",
      " 3   sb_type          2010 non-null   object\n",
      " 4   sb_campus_code   2010 non-null   int64 \n",
      " 5   sb_campus_name   2010 non-null   object\n",
      " 6   sb_faculty_code  2010 non-null   int64 \n",
      " 7   sb_faculty_name  2010 non-null   object\n",
      " 8   sb_is_active     2010 non-null   int64 \n",
      "dtypes: int64(4), object(5)\n",
      "memory usage: 141.5+ KB\n"
     ]
    }
   ],
   "source": [
    "path = '/home/camilo/Documents/BDA/Web Scraping/Subjects.csv'\n",
    "\n",
    "subjects_df  = pd.read_csv(path)\n",
    "subjects_df.info()"
   ]
  },
  {
   "cell_type": "code",
   "execution_count": 54,
   "metadata": {},
   "outputs": [],
   "source": [
    "subjects_df = subjects_df.rename(columns={\"sb_campus_code\": \"sb_program_code\", \"sb_campus_name\": 'sb_program_name'})"
   ]
  },
  {
   "cell_type": "code",
   "execution_count": 55,
   "metadata": {},
   "outputs": [],
   "source": [
    "subjects_df['sb_name'] = subjects_df['sb_name'].astype(str)\n",
    "subjects_df['sb_credits'] = subjects_df['sb_credits'].astype(str)\n",
    "subjects_df['sb_type'] = subjects_df['sb_type'].astype(str)\n",
    "subjects_df['sb_program_name'] = subjects_df['sb_program_name'].astype(str)\n",
    "subjects_df['sb_faculty_name'] = subjects_df['sb_faculty_name'].astype(str)"
   ]
  },
  {
   "cell_type": "code",
   "execution_count": 70,
   "metadata": {},
   "outputs": [],
   "source": [
    "collection = client['bda-project-oltp']['subjects']\n",
    "for i in subjects_df.index:\n",
    "    \n",
    "    result = collection.find_one({'name': subjects_df['sb_name'][i]})\n",
    "    if not result:\n",
    "        subject = {\n",
    "            'name': subjects_df['sb_name'][i],\n",
    "            'credits': str(subjects_df['sb_credits'][i]),\n",
    "            'type': subjects_df['sb_type'][i]\n",
    "        }\n",
    "        collection.insert_one(subject)"
   ]
  },
  {
   "cell_type": "code",
   "execution_count": 71,
   "metadata": {},
   "outputs": [],
   "source": [
    "programs_names = subjects_df['sb_program_name'].unique()\n",
    "faculty_names = subjects_df['sb_faculty_name'].unique()\n",
    "\n",
    "subject_collection = db['subjects']\n",
    "programs = []\n",
    "\n",
    "for i in range(len(programs_names)):\n",
    "    subjects = []\n",
    "    program_df = subjects_df[subjects_df['sb_program_name'] == programs_names[i]]\n",
    "    for j in program_df.index:\n",
    "        subject = subject_collection.find_one({'name': program_df['sb_name'][j]})\n",
    "        subjects.append(subject['_id'])\n",
    "        \n",
    "    programs.append({\n",
    "        'name': programs_names[i],\n",
    "        'subjects': subjects\n",
    "    })\n",
    "\n",
    "insertData('programs', programs)\n"
   ]
  },
  {
   "cell_type": "code",
   "execution_count": 72,
   "metadata": {},
   "outputs": [],
   "source": [
    "teacher = []\n",
    "for i in range(NUM_TEACHERS):\n",
    "    fake = Faker('es_CO')\n",
    "    faculty = str.capitalize(random.choice(faculty_names).split()[2])\n",
    "    teacher.append({\n",
    "        'name': fake.name(),\n",
    "        'email': fake.email(),\n",
    "        'password': fake.sha256(raw_output=False),\n",
    "        'salary': random.randint(5000000, 10000000),\n",
    "        'faculty': faculty\n",
    "    })\n",
    "\n",
    "insertData('teachers', teacher)"
   ]
  },
  {
   "cell_type": "code",
   "execution_count": 23,
   "metadata": {},
   "outputs": [],
   "source": [
    "def getSubjectFromProgram(program):\n",
    "    program_collection = db['programs']\n",
    "    program_subjects = program_collection.find_one({'name': program})['subjects']\n",
    "    return random.choice(program_subjects)"
   ]
  },
  {
   "cell_type": "code",
   "execution_count": 62,
   "metadata": {},
   "outputs": [
    {
     "name": "stdout",
     "output_type": "stream",
     "text": [
      "6489418b626faf7c48a6c397\n"
     ]
    }
   ],
   "source": [
    "print(getSubjectFromProgram('INGENIERÍA DE SISTEMAS Y COMPUTACIÓN'))"
   ]
  },
  {
   "cell_type": "code",
   "execution_count": 73,
   "metadata": {},
   "outputs": [
    {
     "data": {
      "text/plain": [
       "<pymongo.results.InsertOneResult at 0x7f2c093a7cd0>"
      ]
     },
     "execution_count": 73,
     "metadata": {},
     "output_type": "execute_result"
    }
   ],
   "source": [
    "campus_collection = db['campus']\n",
    "classroom_collection = db['classrooms']\n",
    "programs_collection = db['programs']\n",
    "\n",
    "faculties = []\n",
    "for i in range(len(faculty_names)):\n",
    "    programs_names = subjects_df[subjects_df['sb_faculty_name'] == faculty_names[i]]['sb_program_name'].unique()\n",
    "    programs_ids = []\n",
    "    for j in range(len(programs_names)):\n",
    "        program = programs_collection.find_one({'name': programs_names[j]})\n",
    "        programs_ids.append(program['_id'])\n",
    "    \n",
    "    faculty_name = str.capitalize(faculty_names[i].split()[2])\n",
    "    names = [i['name'] for i in list(building_names[faculty_name])]\n",
    "    faculty_classrooms = classroom_collection.find({'building.name': {'$in': names}})\n",
    "\n",
    "    faculties.append({\n",
    "        'name': faculty_name,\n",
    "        'programs': programs_ids,\n",
    "        'classrooms': [classroom['_id'] for classroom in faculty_classrooms]\n",
    "    })\n",
    "\n",
    "campus = {\n",
    "    'name': 'Campus Principal',\n",
    "    'faculties': faculties\n",
    "}\n",
    "\n",
    "campus_collection.insert_one(campus)\n"
   ]
  },
  {
   "cell_type": "code",
   "execution_count": 64,
   "metadata": {},
   "outputs": [],
   "source": [
    "def getSubjectDays() -> str:\n",
    "    \"\"\"\n",
    "    Returns a string with the days of the week represented a binary string\n",
    "    \"\"\"\n",
    "\n",
    "    # Containes the combinations of days in which a subject can be offered in format L-S\n",
    "    dayCombinations = [\n",
    "        '101000',\n",
    "        '010100',\n",
    "        '001010',\n",
    "        '101010',\n",
    "        '011100',\n",
    "        '001110',\n",
    "        '100000',\n",
    "        '001000',\n",
    "        '000100',\n",
    "        '000010',\n",
    "        '111110',\n",
    "        '000001',\n",
    "    ]\n",
    "         \n",
    "    return random.choice(dayCombinations)"
   ]
  },
  {
   "cell_type": "code",
   "execution_count": 74,
   "metadata": {},
   "outputs": [],
   "source": [
    "teachers_collection = db['teachers']\n",
    "classrooms_collection = db['classrooms']\n",
    "subjects_collection = db['subjects']\n",
    "campus_collection = db['campus']\n",
    "\n",
    "faculty_name = ['Ingeniería', 'Ciencias', 'Artes']\n",
    "\n",
    "hours = {\n",
    "    \"7:00\": \"9:00\",\n",
    "    \"9:00\": \"11:00\",\n",
    "    \"11:00\": \"13:00\",\n",
    "    \"14:00\": \"16:00\",\n",
    "    \"16:00\": \"18:00\",\n",
    "    \"18:00\": \"20:00\",\n",
    "    \"10:00\": \"13:00\",\n",
    "    \"14:00\": \"17:00\",\n",
    "}\n",
    "\n",
    "enrollments = []\n",
    "for i in range(NUM_STUDENTS):\n",
    "    fake = Faker('es_CO')\n",
    "    falculty = random.choice(faculty_name)\n",
    "    building = random.choice(building_names[faculty])['name']\n",
    "\n",
    "    teachers_num = random.choices([1, 2, 3], [0.85, 0.15, 0.05])[0]\n",
    "    result = teachers_collection.aggregate([\n",
    "        {'$match': {'faculty': falculty}}, \n",
    "        {'$sample': {'size': teachers_num}},\n",
    "        {'$project': {'_id': 1}}\n",
    "    ])\n",
    "\n",
    "    teachers = []\n",
    "    aux = list(result)\n",
    "    for i in range(len(aux)):\n",
    "        teachers.append({\n",
    "            '_id': aux[i]['_id'],\n",
    "        })\n",
    "\n",
    "    pipeline = [\n",
    "        {'$match': {'faculties.name': falculty}},  # Filtrar por nombre de facultad\n",
    "        {'$unwind': '$faculties'},  # Descomponer la lista de facultades en documentos individuales\n",
    "        {'$match': {'faculties.name': faculty}},  # Filtrar por nombre de facultad\n",
    "        {'$unwind': '$faculties.programs'},   # Descomponer la lista de programas en documentos individuales\n",
    "        {'$sample': {'size': 1}}, # Obtener un programa aleatorio\n",
    "        {'$project': {'_id': 0, 'programs': '$faculties.programs'}} # Proyectar solo el nombre del programa\n",
    "    ]\n",
    "    result = campus_collection.aggregate(pipeline)\n",
    "    program = list(result)[0]['programs']\n",
    "    subject = random.choice(programs_collection.find_one({'_id': program})['subjects'])\n",
    "\n",
    "    classrooms_num = random.choices([1, 2, 3], [0.85, 0.15, 0.05])[0]\n",
    "    classrooms_data = classrooms_collection.aggregate([\n",
    "        {'$match': {'building.name': building}}, \n",
    "        {'$sample': {'size': classrooms_num}}\n",
    "    ])\n",
    "    \n",
    "    classrooms = []\n",
    "    start, end = random.choice(list(hours.items()))\n",
    "\n",
    "    classrooms_data = list(classrooms_data)\n",
    "\n",
    "    for i in range(len(classrooms_data)):\n",
    "        classrooms.append({\n",
    "            '_id': classrooms_data[i]['_id'],\n",
    "            'days': getSubjectDays(),\n",
    "            'shour': start,\n",
    "            'fhour': end\n",
    "        })\n",
    "\n",
    "    #print([teacher['_id'] for teacher in teachers])\n",
    "    date = fake.date_between(start_date='-10y', end_date='today')\n",
    "    date = datetime.datetime.combine(date, datetime.time(0, 0))\n",
    "    enrollments.append({\n",
    "        'subject': subject,\n",
    "        'date': date,\n",
    "        'teachers': [ObjectId(teacher['_id']) for teacher in teachers],\n",
    "        'classrooms': classrooms\n",
    "    })\n",
    "\n",
    "insertData('enrollments', enrollments)"
   ]
  },
  {
   "cell_type": "code",
   "execution_count": 129,
   "metadata": {},
   "outputs": [],
   "source": [
    "insertData('enrollments', enrollments)"
   ]
  },
  {
   "cell_type": "code",
   "execution_count": 66,
   "metadata": {},
   "outputs": [
    {
     "name": "stdout",
     "output_type": "stream",
     "text": [
      "10\n"
     ]
    }
   ],
   "source": [
    "print(len(enrollments))"
   ]
  },
  {
   "cell_type": "code",
   "execution_count": 67,
   "metadata": {},
   "outputs": [
    {
     "name": "stdout",
     "output_type": "stream",
     "text": [
      "648941e7626faf7c48a6c841\n",
      "648941c4626faf7c48a6c4bb\n"
     ]
    }
   ],
   "source": [
    "campus_collection = db['campus']\n",
    "pipeline = [\n",
    "    {'$match': {'faculties.name': 'Artes'}}, \n",
    "    {'$unwind': '$faculties'},  # Descomponer la lista de facultades en documentos individuales\n",
    "    {'$match': {'faculties.name': 'Artes'}},  # Filtrar por nombre de facultad\n",
    "    {'$unwind': '$faculties.programs'},   # Descomponer la lista de programas en documentos individuales\n",
    "    {'$sample': {'size': 1}}, # Obtener un programa aleatorio\n",
    "    {'$project': {'_id': 0, 'programs': '$faculties.programs'}} # Proyectar solo el nombre del programa\n",
    "]\n",
    "\n",
    "result = campus_collection.aggregate(pipeline)\n",
    "program = list(result)[0]['programs']\n",
    "print(program)\n",
    "\n",
    "subject = random.choice(programs_collection.find_one({'_id': program})['subjects'])\n",
    "print(subject)"
   ]
  },
  {
   "cell_type": "code",
   "execution_count": 37,
   "metadata": {},
   "outputs": [
    {
     "name": "stdout",
     "output_type": "stream",
     "text": [
      "6473a37c35ee398eb5f01e9a\n"
     ]
    }
   ],
   "source": [
    "teachers = teachers_collection.aggregate([\n",
    "    {'$match': {'faculty': 'Artes'}}, \n",
    "    {'$sample': {'size': 1}}\n",
    "])\n",
    "\n",
    "print(list(teachers)[0]['_id'])"
   ]
  },
  {
   "cell_type": "code",
   "execution_count": 38,
   "metadata": {},
   "outputs": [
    {
     "name": "stdout",
     "output_type": "stream",
     "text": [
      "[{'name': 'Aulas de artes', '_id': <class 'bson.objectid.ObjectId'>}, {'name': 'Conservatorio de música', '_id': <class 'bson.objectid.ObjectId'>}, {'name': 'Aulas de arquitectura', '_id': <class 'bson.objectid.ObjectId'>}]\n"
     ]
    }
   ],
   "source": [
    "print(building_names['Artes'])"
   ]
  },
  {
   "cell_type": "code",
   "execution_count": 75,
   "metadata": {},
   "outputs": [
    {
     "name": "stdout",
     "output_type": "stream",
     "text": [
      "2017 2\n",
      "2019 1\n",
      "2020 2\n",
      "2016 1\n",
      "2015 1\n",
      "2017 2\n",
      "2018 1\n",
      "2019 2\n",
      "2020 1\n",
      "2021 2\n",
      "2022 1\n",
      "2015 2\n",
      "2017 1\n",
      "2018 2\n",
      "2019 1\n",
      "2020 2\n",
      "2021 1\n",
      "2017 1\n",
      "2019 2\n",
      "2020 1\n",
      "2021 2\n",
      "2022 1\n",
      "2018 1\n",
      "2020 2\n",
      "2021 1\n",
      "2022 2\n",
      "2023 1\n",
      "2013 2\n",
      "2015 1\n",
      "2017 1\n",
      "2019 2\n",
      "2020 1\n",
      "2021 2\n",
      "2022 1\n",
      "2018 2\n",
      "2020 1\n",
      "2021 2\n",
      "2022 1\n",
      "2015 1\n",
      "2017 2\n",
      "2018 1\n",
      "2019 2\n",
      "2020 1\n",
      "2021 2\n",
      "2022 1\n"
     ]
    }
   ],
   "source": [
    "fake = Faker('es_CO')\n",
    "programs_collection = db['programs']\n",
    "enrollments_collection = db['enrollments']\n",
    "students_info = []\n",
    "programs_list = list(programs_collection.find())\n",
    "enrollments_list = list(enrollments_collection.find())\n",
    "for i in range(NUM_STUDENTS):\n",
    "\n",
    "    students_info.append({\n",
    "        'name': fake.name(),\n",
    "        'email': fake.email(),\n",
    "        'password': fake.sha256(raw_output=False),\n",
    "        'programs': []\n",
    "    })\n",
    "\n",
    "for student in students_info:\n",
    "    programs = [];\n",
    "    num_program = random.choices([1, 2], [0.95, 0.05])[0]\n",
    "    for j in range(num_program):\n",
    "        program = random.choice(programs_list)\n",
    "\n",
    "        num_semesters = random.randint(1, 15)\n",
    "\n",
    "        programs.append({\n",
    "            'id': program['_id'],\n",
    "            'semesters': [],\n",
    "        })\n",
    "\n",
    "        initial_date = fake.date_between(start_date='-10y', end_date='-3y')\n",
    "        initial_year = initial_date.year\n",
    "        initial_semester = 1 if initial_date.month <= 6 else 2\n",
    "\n",
    "        for i in range (num_semesters):\n",
    "            subjects_num = random.choices([1, 2, 3, 4, 5, 6], [0.05, 0.05, 0.15, 0.35, 0.35, 0.05])[0]\n",
    "\n",
    "            year = initial_year if i == 0 else initial_year + (i + 1)\n",
    "\n",
    "            \n",
    "            semester = (initial_semester % 2) if (initial_semester % 2) == 1 else (initial_semester % 2) + 2\n",
    "            initial_semester += 1\n",
    "\n",
    "            if(year == 2023 and semester == 2 or year > 2023 and semester <= 2): break\n",
    "            print(year, semester)\n",
    "            programs[j]['semesters'].append({\n",
    "                'year': year,\n",
    "                'semester': semester,\n",
    "                'enrollments': []\n",
    "            })\n",
    "            enrollments = random.choices(enrollments_list, k=subjects_num)\n",
    "\n",
    "            for enrollment in enrollments:\n",
    "                programs[j]['semesters'][i]['enrollments'].append({\n",
    "                    'enrollment': enrollment['_id'],\n",
    "                    'grade': round(random.uniform(1, 5), 2)\n",
    "                })\n",
    "    \n",
    "    student['programs'] = programs\n",
    "\n",
    "insertData('students', students_info)\n"
   ]
  }
 ],
 "metadata": {
  "kernelspec": {
   "display_name": "env-pymongo-fastapi-crud",
   "language": "python",
   "name": "python3"
  },
  "language_info": {
   "codemirror_mode": {
    "name": "ipython",
    "version": 3
   },
   "file_extension": ".py",
   "mimetype": "text/x-python",
   "name": "python",
   "nbconvert_exporter": "python",
   "pygments_lexer": "ipython3",
   "version": "3.10.7"
  },
  "orig_nbformat": 4
 },
 "nbformat": 4,
 "nbformat_minor": 2
}
